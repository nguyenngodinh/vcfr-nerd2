{
 "cells": [
  {
   "cell_type": "code",
   "execution_count": 3,
   "metadata": {},
   "outputs": [],
   "source": [
    "import cv2\n",
    "import os\n",
    "import numpy as np\n",
    "from random import randint\n",
    "from shutil import copyfile\n",
    "import csv"
   ]
  },
  {
   "cell_type": "code",
   "execution_count": null,
   "metadata": {},
   "outputs": [],
   "source": [
    "# chia thu muc anh theo file \n",
    "train_fol = '/home/dev/aivivn/vn_celeb_face_recognition/train'\n",
    "ftrain = open('/home/dev/aivivn/vn_celeb_face_recognition/train.csv', 'r')\n",
    "catefol = '/home/dev/aivivn/catefol'\n",
    "for x in ftrain:\n",
    "    path, iid = x.split(',')\n",
    "    if path.endswith('.png'):\n",
    "        idfol = os.path.join(catefol, iid)\n",
    "        print(idfol)\n",
    "        if not os.path.isdir(idfol):\n",
    "            print('Making new dir %s', idfol)\n",
    "            os.mkdir(idfol)\n",
    "        src = os.path.join(train_fol, path)\n",
    "        dst = os.path.join(catefol, idfol, path)\n",
    "        copyfile(src, dst)        "
   ]
  },
  {
   "cell_type": "code",
   "execution_count": 2,
   "metadata": {},
   "outputs": [],
   "source": [
    "def isGray (img):\n",
    "    w, h, c = img.shape\n",
    "    for i in range(w):\n",
    "        for j in range(h):\n",
    "            pixel = (img[i, j])\n",
    "            if pixel[0] != pixel [1] or pixel[0] != pixel [2] or pixel [1] != pixel[2]:\n",
    "                print(\"rgb\")\n",
    "                return False\n",
    "    print(\"gray\")\n",
    "    return True\n",
    "   "
   ]
  },
  {
   "cell_type": "code",
   "execution_count": null,
   "metadata": {},
   "outputs": [],
   "source": [
    "train_fol = '/home/dev/aivivn/1000classTrain'\n",
    "all_train_root = '/home/dev/aivivn/traindataaug'\n",
    "\n",
    "#  1: shift, 2: rot, 3: flip, 4: grayscale if rgb \n",
    "with open('traindataaugfile.csv' , 'w') as csvfile:\n",
    "    writer = csv.writer(csvfile, delimiter=',',\n",
    "                        quotechar='|', quoting=csv.QUOTE_NONE)\n",
    "    writer.writerow(['image','label'])\n",
    "    for root, dirs, files in os.walk(train_fol):\n",
    "        for subdir in dirs:\n",
    "            subfol = (os.path.join(train_fol, subdir))\n",
    "            files = os.listdir(subfol)\n",
    "            for file in files:\n",
    "                if not file.endswith('.png'):\n",
    "                    files.remove(file)\n",
    "            for file in files:\n",
    "#                 print(file)\n",
    "                if file.endswith('.png'):\n",
    "                    name = os.path.join(subfol, file)\n",
    "                    img = cv2.imread(os.path.join(subfol, file))\n",
    "\n",
    "                    if not isGray(img):\n",
    "                        gray = cv2.cvtColor(img, cv2.COLOR_BGR2GRAY)\n",
    "                        newname = 'gray' + file\n",
    "                        cv2.imwrite(os.path.join(subfol, newname), gray)\n",
    "            files = os.listdir(subfol)\n",
    "            for file in files:\n",
    "                if not file.endswith('.png'):\n",
    "                    files.remove(file)\n",
    "            numi = (len(files))\n",
    "            print (numi)\n",
    "    #         gen to 16 images for each class\n",
    "            if numi < 16:\n",
    "                for i in range( 16 - numi):\n",
    "        #             choose image to process\n",
    "                    imgid = randint(0, numi-1)\n",
    "                    name = os.path.join(subfol, subdir + '_' + str(i) + '.png')\n",
    "#                     print(os.path.join(subfol, files[imgid]))\n",
    "                    img = cv2.imread(os.path.join(subfol, files[imgid]))\n",
    "                    rows, cols, ch = img.shape\n",
    "\n",
    "        #             choose method: shift, rot, flip\n",
    "                    met = randint(1, 3)\n",
    "                    if met == 1: # shift \n",
    "                        offsetx = randint(-20, 20)\n",
    "                        offsety = randint(-20, 20)\n",
    "                        M = np.float32([[1, 0, offsetx], [0, 1, offsety]])\n",
    "                        dst = cv2.warpAffine(img, M, (cols, rows))\n",
    "                        cv2.imwrite(name, dst)\n",
    "                    if met == 2: \n",
    "                        rot = randint(-10, 10)\n",
    "                        M = cv2.getRotationMatrix2D((cols/2, rows/2), rot, 1)\n",
    "                        dst = cv2.warpAffine(img, M, (cols, rows))\n",
    "                        cv2.imwrite(name, dst)\n",
    "                    else:\n",
    "                        dst = cv2.flip(img, 1)\n",
    "                        cv2.imwrite(name, dst)\n",
    "            newfiles = os.listdir(subfol)\n",
    "#             print(len(newfiles))\n",
    "            for newfile in newfiles:\n",
    "                src = os.path.join(subfol, newfile)\n",
    "                dst = os.path.join(all_train_root, newfile)\n",
    "                copyfile(src, dst)\n",
    "                writer.writerow([newfile, subdir])"
   ]
  },
  {
   "cell_type": "code",
   "execution_count": null,
   "metadata": {},
   "outputs": [],
   "source": [
    "# gen file groundtruth cho new train image set \n"
   ]
  }
 ],
 "metadata": {
  "kernelspec": {
   "display_name": "Python 3",
   "language": "python",
   "name": "python3"
  },
  "language_info": {
   "codemirror_mode": {
    "name": "ipython",
    "version": 3
   },
   "file_extension": ".py",
   "mimetype": "text/x-python",
   "name": "python",
   "nbconvert_exporter": "python",
   "pygments_lexer": "ipython3",
   "version": "3.5.2"
  }
 },
 "nbformat": 4,
 "nbformat_minor": 2
}
